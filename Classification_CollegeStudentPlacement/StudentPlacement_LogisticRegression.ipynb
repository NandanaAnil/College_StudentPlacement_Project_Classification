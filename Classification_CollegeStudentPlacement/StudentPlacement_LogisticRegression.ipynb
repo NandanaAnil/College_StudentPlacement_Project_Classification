{
 "cells": [
  {
   "cell_type": "code",
   "execution_count": 1,
   "id": "6fc9c29c-0bd3-4bdb-b5bb-cd13621844ba",
   "metadata": {},
   "outputs": [],
   "source": [
    "import numpy as np   \n",
    "import pandas as pd  \n",
    "import seaborn as sns  \n",
    "import matplotlib.pyplot as plt\n",
    "from sklearn.model_selection import train_test_split\n",
    "from sklearn.linear_model import LogisticRegression\n",
    "from sklearn.metrics import accuracy_score, confusion_matrix, classification_report"
   ]
  },
  {
   "cell_type": "code",
   "execution_count": 2,
   "id": "8786639c-4b06-47b8-8ea3-60a9b736b0ce",
   "metadata": {},
   "outputs": [
    {
     "data": {
      "text/html": [
       "<div>\n",
       "<style scoped>\n",
       "    .dataframe tbody tr th:only-of-type {\n",
       "        vertical-align: middle;\n",
       "    }\n",
       "\n",
       "    .dataframe tbody tr th {\n",
       "        vertical-align: top;\n",
       "    }\n",
       "\n",
       "    .dataframe thead th {\n",
       "        text-align: right;\n",
       "    }\n",
       "</style>\n",
       "<table border=\"1\" class=\"dataframe\">\n",
       "  <thead>\n",
       "    <tr style=\"text-align: right;\">\n",
       "      <th></th>\n",
       "      <th>College_ID</th>\n",
       "      <th>IQ</th>\n",
       "      <th>Prev_Sem_Result</th>\n",
       "      <th>CGPA</th>\n",
       "      <th>Academic_Performance</th>\n",
       "      <th>Internship_Experience</th>\n",
       "      <th>Extra_Curricular_Score</th>\n",
       "      <th>Communication_Skills</th>\n",
       "      <th>Projects_Completed</th>\n",
       "      <th>Placement</th>\n",
       "    </tr>\n",
       "  </thead>\n",
       "  <tbody>\n",
       "    <tr>\n",
       "      <th>0</th>\n",
       "      <td>CLG0030</td>\n",
       "      <td>107</td>\n",
       "      <td>6.61</td>\n",
       "      <td>6.28</td>\n",
       "      <td>8</td>\n",
       "      <td>No</td>\n",
       "      <td>8</td>\n",
       "      <td>8</td>\n",
       "      <td>4</td>\n",
       "      <td>No</td>\n",
       "    </tr>\n",
       "    <tr>\n",
       "      <th>1</th>\n",
       "      <td>CLG0061</td>\n",
       "      <td>97</td>\n",
       "      <td>5.52</td>\n",
       "      <td>5.37</td>\n",
       "      <td>8</td>\n",
       "      <td>No</td>\n",
       "      <td>7</td>\n",
       "      <td>8</td>\n",
       "      <td>0</td>\n",
       "      <td>No</td>\n",
       "    </tr>\n",
       "    <tr>\n",
       "      <th>2</th>\n",
       "      <td>CLG0036</td>\n",
       "      <td>109</td>\n",
       "      <td>5.36</td>\n",
       "      <td>5.83</td>\n",
       "      <td>9</td>\n",
       "      <td>No</td>\n",
       "      <td>3</td>\n",
       "      <td>1</td>\n",
       "      <td>1</td>\n",
       "      <td>No</td>\n",
       "    </tr>\n",
       "    <tr>\n",
       "      <th>3</th>\n",
       "      <td>CLG0055</td>\n",
       "      <td>122</td>\n",
       "      <td>5.47</td>\n",
       "      <td>5.75</td>\n",
       "      <td>6</td>\n",
       "      <td>Yes</td>\n",
       "      <td>1</td>\n",
       "      <td>6</td>\n",
       "      <td>1</td>\n",
       "      <td>No</td>\n",
       "    </tr>\n",
       "    <tr>\n",
       "      <th>4</th>\n",
       "      <td>CLG0004</td>\n",
       "      <td>96</td>\n",
       "      <td>7.91</td>\n",
       "      <td>7.69</td>\n",
       "      <td>7</td>\n",
       "      <td>No</td>\n",
       "      <td>8</td>\n",
       "      <td>10</td>\n",
       "      <td>2</td>\n",
       "      <td>No</td>\n",
       "    </tr>\n",
       "    <tr>\n",
       "      <th>...</th>\n",
       "      <td>...</td>\n",
       "      <td>...</td>\n",
       "      <td>...</td>\n",
       "      <td>...</td>\n",
       "      <td>...</td>\n",
       "      <td>...</td>\n",
       "      <td>...</td>\n",
       "      <td>...</td>\n",
       "      <td>...</td>\n",
       "      <td>...</td>\n",
       "    </tr>\n",
       "    <tr>\n",
       "      <th>9995</th>\n",
       "      <td>CLG0021</td>\n",
       "      <td>119</td>\n",
       "      <td>8.41</td>\n",
       "      <td>8.29</td>\n",
       "      <td>4</td>\n",
       "      <td>No</td>\n",
       "      <td>1</td>\n",
       "      <td>8</td>\n",
       "      <td>0</td>\n",
       "      <td>Yes</td>\n",
       "    </tr>\n",
       "    <tr>\n",
       "      <th>9996</th>\n",
       "      <td>CLG0098</td>\n",
       "      <td>70</td>\n",
       "      <td>9.25</td>\n",
       "      <td>9.34</td>\n",
       "      <td>7</td>\n",
       "      <td>No</td>\n",
       "      <td>0</td>\n",
       "      <td>7</td>\n",
       "      <td>2</td>\n",
       "      <td>No</td>\n",
       "    </tr>\n",
       "    <tr>\n",
       "      <th>9997</th>\n",
       "      <td>CLG0066</td>\n",
       "      <td>89</td>\n",
       "      <td>6.08</td>\n",
       "      <td>6.25</td>\n",
       "      <td>3</td>\n",
       "      <td>Yes</td>\n",
       "      <td>3</td>\n",
       "      <td>9</td>\n",
       "      <td>5</td>\n",
       "      <td>No</td>\n",
       "    </tr>\n",
       "    <tr>\n",
       "      <th>9998</th>\n",
       "      <td>CLG0045</td>\n",
       "      <td>107</td>\n",
       "      <td>8.77</td>\n",
       "      <td>8.92</td>\n",
       "      <td>3</td>\n",
       "      <td>No</td>\n",
       "      <td>7</td>\n",
       "      <td>5</td>\n",
       "      <td>1</td>\n",
       "      <td>No</td>\n",
       "    </tr>\n",
       "    <tr>\n",
       "      <th>9999</th>\n",
       "      <td>CLG0060</td>\n",
       "      <td>109</td>\n",
       "      <td>9.41</td>\n",
       "      <td>9.77</td>\n",
       "      <td>8</td>\n",
       "      <td>No</td>\n",
       "      <td>3</td>\n",
       "      <td>5</td>\n",
       "      <td>5</td>\n",
       "      <td>No</td>\n",
       "    </tr>\n",
       "  </tbody>\n",
       "</table>\n",
       "<p>10000 rows × 10 columns</p>\n",
       "</div>"
      ],
      "text/plain": [
       "     College_ID   IQ  Prev_Sem_Result  CGPA  Academic_Performance  \\\n",
       "0       CLG0030  107             6.61  6.28                     8   \n",
       "1       CLG0061   97             5.52  5.37                     8   \n",
       "2       CLG0036  109             5.36  5.83                     9   \n",
       "3       CLG0055  122             5.47  5.75                     6   \n",
       "4       CLG0004   96             7.91  7.69                     7   \n",
       "...         ...  ...              ...   ...                   ...   \n",
       "9995    CLG0021  119             8.41  8.29                     4   \n",
       "9996    CLG0098   70             9.25  9.34                     7   \n",
       "9997    CLG0066   89             6.08  6.25                     3   \n",
       "9998    CLG0045  107             8.77  8.92                     3   \n",
       "9999    CLG0060  109             9.41  9.77                     8   \n",
       "\n",
       "     Internship_Experience  Extra_Curricular_Score  Communication_Skills  \\\n",
       "0                       No                       8                     8   \n",
       "1                       No                       7                     8   \n",
       "2                       No                       3                     1   \n",
       "3                      Yes                       1                     6   \n",
       "4                       No                       8                    10   \n",
       "...                    ...                     ...                   ...   \n",
       "9995                    No                       1                     8   \n",
       "9996                    No                       0                     7   \n",
       "9997                   Yes                       3                     9   \n",
       "9998                    No                       7                     5   \n",
       "9999                    No                       3                     5   \n",
       "\n",
       "      Projects_Completed Placement  \n",
       "0                      4        No  \n",
       "1                      0        No  \n",
       "2                      1        No  \n",
       "3                      1        No  \n",
       "4                      2        No  \n",
       "...                  ...       ...  \n",
       "9995                   0       Yes  \n",
       "9996                   2        No  \n",
       "9997                   5        No  \n",
       "9998                   1        No  \n",
       "9999                   5        No  \n",
       "\n",
       "[10000 rows x 10 columns]"
      ]
     },
     "execution_count": 2,
     "metadata": {},
     "output_type": "execute_result"
    }
   ],
   "source": [
    "placement = pd.read_csv('college_student_placement_dataset.csv')\n",
    "placement "
   ]
  },
  {
   "cell_type": "code",
   "execution_count": 3,
   "id": "a5f91dc9-0731-46d8-9639-5dca57555220",
   "metadata": {},
   "outputs": [
    {
     "name": "stdout",
     "output_type": "stream",
     "text": [
      "Series([], dtype: int64)\n"
     ]
    }
   ],
   "source": [
    "null_values = placement.isnull().sum()\n",
    "null_values = null_values[null_values>0]\n",
    "print(null_values)"
   ]
  },
  {
   "cell_type": "code",
   "execution_count": 4,
   "id": "aae73eb8-97ff-4aab-9b16-4111b30d6b7b",
   "metadata": {},
   "outputs": [
    {
     "data": {
      "text/plain": [
       "['College_ID', 'Internship_Experience', 'Placement']"
      ]
     },
     "execution_count": 4,
     "metadata": {},
     "output_type": "execute_result"
    }
   ],
   "source": [
    "list(placement.select_dtypes(include='object').columns)"
   ]
  },
  {
   "cell_type": "code",
   "execution_count": 5,
   "id": "030c7317-583c-46a6-8e8f-1019d696ba02",
   "metadata": {},
   "outputs": [
    {
     "data": {
      "text/plain": [
       "College_ID\n",
       "CLG0062    133\n",
       "CLG0027    120\n",
       "CLG0065    119\n",
       "CLG0075    119\n",
       "CLG0023    118\n",
       "          ... \n",
       "CLG0060     83\n",
       "CLG0035     83\n",
       "CLG0006     83\n",
       "CLG0054     79\n",
       "CLG0042     75\n",
       "Name: count, Length: 100, dtype: int64"
      ]
     },
     "execution_count": 5,
     "metadata": {},
     "output_type": "execute_result"
    }
   ],
   "source": [
    "placement['College_ID'].value_counts()"
   ]
  },
  {
   "cell_type": "code",
   "execution_count": 6,
   "id": "67ceaf89-7f2c-4aa5-b939-0cc1803f6b42",
   "metadata": {},
   "outputs": [
    {
     "name": "stdout",
     "output_type": "stream",
     "text": [
      "   College_ID  Count\n",
      "0     CLG0062    133\n",
      "1     CLG0027    120\n",
      "2     CLG0065    119\n",
      "3     CLG0075    119\n",
      "4     CLG0023    118\n",
      "5     CLG0025    118\n",
      "6     CLG0058    116\n",
      "7     CLG0073    116\n",
      "8     CLG0026    115\n",
      "9     CLG0067    114\n",
      "10    CLG0049    114\n",
      "11    CLG0066    113\n",
      "12    CLG0045    113\n",
      "13    CLG0032    113\n",
      "14    CLG0078    113\n",
      "15    CLG0088    112\n",
      "16    CLG0034    112\n",
      "17    CLG0005    112\n",
      "18    CLG0094    110\n",
      "19    CLG0012    110\n",
      "20    CLG0086    110\n",
      "21    CLG0029    109\n",
      "22    CLG0001    109\n",
      "23    CLG0051    108\n",
      "24    CLG0056    108\n",
      "25    CLG0077    107\n",
      "26    CLG0038    106\n",
      "27    CLG0061    106\n",
      "28    CLG0020    105\n",
      "29    CLG0030    105\n",
      "30    CLG0072    105\n",
      "31    CLG0080    105\n",
      "32    CLG0098    105\n",
      "33    CLG0010    105\n",
      "34    CLG0013    105\n",
      "35    CLG0046    105\n",
      "36    CLG0039    104\n",
      "37    CLG0069    104\n",
      "38    CLG0095    102\n",
      "39    CLG0092    102\n",
      "40    CLG0047    102\n",
      "41    CLG0071    102\n",
      "42    CLG0041    102\n",
      "43    CLG0084    102\n",
      "44    CLG0014    102\n",
      "45    CLG0097    101\n",
      "46    CLG0090    101\n",
      "47    CLG0091    100\n",
      "48    CLG0096     99\n",
      "49    CLG0043     99\n",
      "50    CLG0085     98\n",
      "51    CLG0033     98\n",
      "52    CLG0022     98\n",
      "53    CLG0081     97\n",
      "54    CLG0003     97\n",
      "55    CLG0031     97\n",
      "56    CLG0100     97\n",
      "57    CLG0087     97\n",
      "58    CLG0044     96\n",
      "59    CLG0021     96\n",
      "60    CLG0009     96\n",
      "61    CLG0082     95\n",
      "62    CLG0015     95\n",
      "63    CLG0083     95\n",
      "64    CLG0040     95\n",
      "65    CLG0016     95\n",
      "66    CLG0017     95\n",
      "67    CLG0074     94\n",
      "68    CLG0068     94\n",
      "69    CLG0011     94\n",
      "70    CLG0008     94\n",
      "71    CLG0059     94\n",
      "72    CLG0007     94\n",
      "73    CLG0036     93\n",
      "74    CLG0089     93\n",
      "75    CLG0064     93\n",
      "76    CLG0079     92\n",
      "77    CLG0018     92\n",
      "78    CLG0053     91\n",
      "79    CLG0057     91\n",
      "80    CLG0004     91\n",
      "81    CLG0052     90\n",
      "82    CLG0050     90\n",
      "83    CLG0019     90\n",
      "84    CLG0093     90\n",
      "85    CLG0099     89\n",
      "86    CLG0063     88\n",
      "87    CLG0028     88\n",
      "88    CLG0076     86\n",
      "89    CLG0002     86\n",
      "90    CLG0024     86\n",
      "91    CLG0037     86\n",
      "92    CLG0055     86\n",
      "93    CLG0070     85\n",
      "94    CLG0048     85\n",
      "95    CLG0060     83\n",
      "96    CLG0035     83\n",
      "97    CLG0006     83\n",
      "98    CLG0054     79\n",
      "99    CLG0042     75\n"
     ]
    }
   ],
   "source": [
    "college_counts = placement['College_ID'].value_counts(dropna=False).reset_index() \n",
    "college_counts.columns = ['College_ID', 'Count']\n",
    "\n",
    "#Display all rows \n",
    "pd.set_option('display.max_rows', None)\n",
    "print(college_counts)"
   ]
  },
  {
   "cell_type": "code",
   "execution_count": 7,
   "id": "779da8a4-7910-4f4b-80b8-2dacaf7b7fca",
   "metadata": {},
   "outputs": [
    {
     "name": "stderr",
     "output_type": "stream",
     "text": [
      "C:\\Users\\Nandana\\AppData\\Local\\Temp\\ipykernel_1164\\2577794124.py:1: FutureWarning: Downcasting behavior in `replace` is deprecated and will be removed in a future version. To retain the old behavior, explicitly call `result.infer_objects(copy=False)`. To opt-in to the future behavior, set `pd.set_option('future.no_silent_downcasting', True)`\n",
      "  placement.replace({'College_ID': {\n"
     ]
    }
   ],
   "source": [
    "placement.replace({'College_ID': {\n",
    "    'CLG0062': 0, 'CLG0027': 1, 'CLG0065': 2, 'CLG0075': 3, 'CLG0023': 4, 'CLG0025': 5,\n",
    "    'CLG0058': 6, 'CLG0073': 7, 'CLG0026': 8, 'CLG0067': 9, 'CLG0049': 10, 'CLG0066': 11,\n",
    "    'CLG0045': 12, 'CLG0032': 13, 'CLG0078': 14, 'CLG0088': 15, 'CLG0034': 16, 'CLG0005': 17,\n",
    "    'CLG0094': 18, 'CLG0012': 19, 'CLG0086': 20, 'CLG0029': 21, 'CLG0001': 22, 'CLG0051': 23,\n",
    "    'CLG0056': 24, 'CLG0077': 25, 'CLG0038': 26, 'CLG0061': 27, 'CLG0020': 28, 'CLG0030': 29,\n",
    "    'CLG0072': 30, 'CLG0080': 31, 'CLG0098': 32, 'CLG0010': 33, 'CLG0013': 34, 'CLG0046': 35,\n",
    "    'CLG0039': 36, 'CLG0069': 37, 'CLG0095': 38, 'CLG0092': 39, 'CLG0047': 40, 'CLG0071': 41,\n",
    "    'CLG0041': 42, 'CLG0084': 43, 'CLG0014': 44, 'CLG0097': 45, 'CLG0090': 46, 'CLG0091': 47,\n",
    "    'CLG0096': 48, 'CLG0043': 49, 'CLG0085': 50, 'CLG0033': 51, 'CLG0022': 52, 'CLG0081': 53,\n",
    "    'CLG0003': 54, 'CLG0031': 55, 'CLG0100': 56, 'CLG0087': 57, 'CLG0044': 58, 'CLG0021': 59,\n",
    "    'CLG0009': 60, 'CLG0082': 61, 'CLG0015': 62, 'CLG0083': 63, 'CLG0040': 64, 'CLG0016': 65,\n",
    "    'CLG0017': 66, 'CLG0074': 67, 'CLG0068': 68, 'CLG0011': 69, 'CLG0008': 70, 'CLG0059': 71,\n",
    "    'CLG0007': 72, 'CLG0036': 73, 'CLG0089': 74, 'CLG0064': 75, 'CLG0079': 76, 'CLG0018': 77,\n",
    "    'CLG0053': 78, 'CLG0057': 79, 'CLG0004': 80, 'CLG0052': 81, 'CLG0050': 82, 'CLG0019': 83,\n",
    "    'CLG0093': 84, 'CLG0099': 85, 'CLG0063': 86, 'CLG0028': 87, 'CLG0076': 88, 'CLG0002': 89,\n",
    "    'CLG0024': 90, 'CLG0037': 91, 'CLG0055': 92, 'CLG0070': 93, 'CLG0048': 94, 'CLG0060': 95,\n",
    "    'CLG0035': 96, 'CLG0006': 97, 'CLG0054': 98, 'CLG0042': 99\n",
    "}}, inplace=True)\n"
   ]
  },
  {
   "cell_type": "code",
   "execution_count": 8,
   "id": "abf8c763-b2c9-491e-8b35-41aad62b18a4",
   "metadata": {},
   "outputs": [
    {
     "data": {
      "text/plain": [
       "College_ID\n",
       "0     133\n",
       "1     120\n",
       "2     119\n",
       "3     119\n",
       "4     118\n",
       "5     118\n",
       "6     116\n",
       "7     116\n",
       "8     115\n",
       "9     114\n",
       "10    114\n",
       "11    113\n",
       "12    113\n",
       "13    113\n",
       "14    113\n",
       "15    112\n",
       "16    112\n",
       "17    112\n",
       "18    110\n",
       "19    110\n",
       "20    110\n",
       "21    109\n",
       "22    109\n",
       "23    108\n",
       "24    108\n",
       "25    107\n",
       "26    106\n",
       "27    106\n",
       "28    105\n",
       "29    105\n",
       "30    105\n",
       "31    105\n",
       "32    105\n",
       "33    105\n",
       "34    105\n",
       "35    105\n",
       "36    104\n",
       "37    104\n",
       "38    102\n",
       "39    102\n",
       "40    102\n",
       "41    102\n",
       "42    102\n",
       "43    102\n",
       "44    102\n",
       "45    101\n",
       "46    101\n",
       "47    100\n",
       "48     99\n",
       "49     99\n",
       "50     98\n",
       "51     98\n",
       "52     98\n",
       "53     97\n",
       "54     97\n",
       "55     97\n",
       "56     97\n",
       "57     97\n",
       "58     96\n",
       "59     96\n",
       "60     96\n",
       "61     95\n",
       "62     95\n",
       "63     95\n",
       "64     95\n",
       "65     95\n",
       "66     95\n",
       "67     94\n",
       "68     94\n",
       "69     94\n",
       "70     94\n",
       "71     94\n",
       "72     94\n",
       "73     93\n",
       "74     93\n",
       "75     93\n",
       "76     92\n",
       "77     92\n",
       "78     91\n",
       "79     91\n",
       "80     91\n",
       "81     90\n",
       "82     90\n",
       "83     90\n",
       "84     90\n",
       "85     89\n",
       "86     88\n",
       "87     88\n",
       "88     86\n",
       "89     86\n",
       "90     86\n",
       "91     86\n",
       "92     86\n",
       "93     85\n",
       "94     85\n",
       "95     83\n",
       "96     83\n",
       "97     83\n",
       "98     79\n",
       "99     75\n",
       "Name: count, dtype: int64"
      ]
     },
     "execution_count": 8,
     "metadata": {},
     "output_type": "execute_result"
    }
   ],
   "source": [
    "placement['College_ID'].value_counts()"
   ]
  },
  {
   "cell_type": "code",
   "execution_count": 9,
   "id": "67a0c7a0-bfe0-4e0e-95c7-bbcc06634fdc",
   "metadata": {},
   "outputs": [
    {
     "data": {
      "text/plain": [
       "Internship_Experience\n",
       "No     6036\n",
       "Yes    3964\n",
       "Name: count, dtype: int64"
      ]
     },
     "execution_count": 9,
     "metadata": {},
     "output_type": "execute_result"
    }
   ],
   "source": [
    "placement['Internship_Experience'].value_counts()"
   ]
  },
  {
   "cell_type": "code",
   "execution_count": 10,
   "id": "01940aae-00d6-484f-961a-83b35fe70ef3",
   "metadata": {},
   "outputs": [
    {
     "name": "stderr",
     "output_type": "stream",
     "text": [
      "C:\\Users\\Nandana\\AppData\\Local\\Temp\\ipykernel_1164\\1828077475.py:1: FutureWarning: Downcasting behavior in `replace` is deprecated and will be removed in a future version. To retain the old behavior, explicitly call `result.infer_objects(copy=False)`. To opt-in to the future behavior, set `pd.set_option('future.no_silent_downcasting', True)`\n",
      "  placement.replace({'Internship_Experience':{'No':0, 'Yes':1}}, inplace=True)\n"
     ]
    }
   ],
   "source": [
    "placement.replace({'Internship_Experience':{'No':0, 'Yes':1}}, inplace=True)"
   ]
  },
  {
   "cell_type": "code",
   "execution_count": 11,
   "id": "9bf31bc0-9571-450e-af12-fd63529b50a4",
   "metadata": {},
   "outputs": [
    {
     "data": {
      "text/plain": [
       "Internship_Experience\n",
       "0    6036\n",
       "1    3964\n",
       "Name: count, dtype: int64"
      ]
     },
     "execution_count": 11,
     "metadata": {},
     "output_type": "execute_result"
    }
   ],
   "source": [
    "placement['Internship_Experience'].value_counts()"
   ]
  },
  {
   "cell_type": "code",
   "execution_count": 12,
   "id": "bfe96704-0c72-402b-9ad7-385b950e5810",
   "metadata": {},
   "outputs": [
    {
     "data": {
      "text/plain": [
       "Placement\n",
       "No     8341\n",
       "Yes    1659\n",
       "Name: count, dtype: int64"
      ]
     },
     "execution_count": 12,
     "metadata": {},
     "output_type": "execute_result"
    }
   ],
   "source": [
    "placement['Placement'].value_counts()"
   ]
  },
  {
   "cell_type": "code",
   "execution_count": 13,
   "id": "51ce13e4-ad8f-459a-abce-ed4d3c9f3031",
   "metadata": {},
   "outputs": [
    {
     "name": "stderr",
     "output_type": "stream",
     "text": [
      "C:\\Users\\Nandana\\AppData\\Local\\Temp\\ipykernel_1164\\1225012702.py:1: FutureWarning: Downcasting behavior in `replace` is deprecated and will be removed in a future version. To retain the old behavior, explicitly call `result.infer_objects(copy=False)`. To opt-in to the future behavior, set `pd.set_option('future.no_silent_downcasting', True)`\n",
      "  placement.replace({'Placement':{'No':0, 'Yes':1}}, inplace=True)\n"
     ]
    }
   ],
   "source": [
    "placement.replace({'Placement':{'No':0, 'Yes':1}}, inplace=True)"
   ]
  },
  {
   "cell_type": "code",
   "execution_count": 14,
   "id": "cf65717b-1e58-4294-bebb-bc4e8a6e3aa7",
   "metadata": {},
   "outputs": [
    {
     "data": {
      "text/plain": [
       "Placement\n",
       "0    8341\n",
       "1    1659\n",
       "Name: count, dtype: int64"
      ]
     },
     "execution_count": 14,
     "metadata": {},
     "output_type": "execute_result"
    }
   ],
   "source": [
    "placement['Placement'].value_counts()"
   ]
  },
  {
   "cell_type": "code",
   "execution_count": 15,
   "id": "e1580b8c-9ef1-4f79-85c4-3af6d261fb30",
   "metadata": {},
   "outputs": [
    {
     "data": {
      "text/plain": [
       "<Axes: >"
      ]
     },
     "execution_count": 15,
     "metadata": {},
     "output_type": "execute_result"
    },
    {
     "data": {
      "image/png": "[encoded data removed]",
      "text/plain": [
       "<Figure size 2000x2000 with 1 Axes>"
      ]
     },
     "metadata": {},
     "output_type": "display_data"
    }
   ],
   "source": [
    "fig,ax = plt.subplots(figsize=(20,20))\n",
    "sns.boxplot(data = placement, ax=ax)"
   ]
  },
  {
   "cell_type": "code",
   "execution_count": 16,
   "id": "365d1e9a-5b72-43c8-ab1c-fc92f12fb933",
   "metadata": {},
   "outputs": [],
   "source": [
    "# Exclude 'Placement' column from outlier detection\n",
    "numeric_cols = placement.select_dtypes(include=['number']).columns.drop('Placement')\n",
    "\n",
    "Q1 = placement[numeric_cols].quantile(0.25)\n",
    "Q3 = placement[numeric_cols].quantile(0.75)\n",
    "\n",
    "#Calculate IQR - Inter Quartile Range \n",
    "IQR = Q3 - Q1\n",
    "\n",
    "#Determine the outlier boundaries \n",
    "lower_bound = Q1 - 1.5 * IQR \n",
    "upper_bound = Q3 + 1.5 * IQR\n",
    "\n",
    "#Create a mask for data within the IQR boundaries \n",
    "mask = ~((placement[numeric_cols] < lower_bound) | (placement[numeric_cols] > upper_bound)).any(axis=1)\n",
    "\n",
    "#Remove outliers \n",
    "cleaned_data = placement[mask]"
   ]
  },
  {
   "cell_type": "code",
   "execution_count": 17,
   "id": "25874db9-c5ff-4351-af6e-853ee0712c73",
   "metadata": {},
   "outputs": [
    {
     "data": {
      "text/plain": [
       "<Axes: >"
      ]
     },
     "execution_count": 17,
     "metadata": {},
     "output_type": "execute_result"
    },
    {
     "data": {
      "image/png": "[encoded data removed]",
      "text/plain": [
       "<Figure size 2000x2000 with 1 Axes>"
      ]
     },
     "metadata": {},
     "output_type": "display_data"
    }
   ],
   "source": [
    "fig,ax = plt.subplots(figsize=(20,20))\n",
    "sns.boxplot(cleaned_data,ax=ax)"
   ]
  },
  {
   "cell_type": "code",
   "execution_count": 18,
   "id": "795a493d-4c40-4087-9e55-5a5268777964",
   "metadata": {},
   "outputs": [
    {
     "data": {
      "text/plain": [
       "(10000, 10)"
      ]
     },
     "execution_count": 18,
     "metadata": {},
     "output_type": "execute_result"
    }
   ],
   "source": [
    "placement.shape"
   ]
  },
  {
   "cell_type": "code",
   "execution_count": 19,
   "id": "4976fec0-1f53-4bb2-a2d9-ed6d4c9cb7b9",
   "metadata": {},
   "outputs": [
    {
     "data": {
      "text/plain": [
       "(9939, 10)"
      ]
     },
     "execution_count": 19,
     "metadata": {},
     "output_type": "execute_result"
    }
   ],
   "source": [
    "cleaned_data.shape"
   ]
  },
  {
   "cell_type": "code",
   "execution_count": 20,
   "id": "22ac59e2-b9a4-4cde-86be-e76f59e63f2b",
   "metadata": {},
   "outputs": [
    {
     "data": {
      "text/html": [
       "<div>\n",
       "<style scoped>\n",
       "    .dataframe tbody tr th:only-of-type {\n",
       "        vertical-align: middle;\n",
       "    }\n",
       "\n",
       "    .dataframe tbody tr th {\n",
       "        vertical-align: top;\n",
       "    }\n",
       "\n",
       "    .dataframe thead th {\n",
       "        text-align: right;\n",
       "    }\n",
       "</style>\n",
       "<table border=\"1\" class=\"dataframe\">\n",
       "  <thead>\n",
       "    <tr style=\"text-align: right;\">\n",
       "      <th></th>\n",
       "      <th>College_ID</th>\n",
       "      <th>IQ</th>\n",
       "      <th>Prev_Sem_Result</th>\n",
       "      <th>CGPA</th>\n",
       "      <th>Academic_Performance</th>\n",
       "      <th>Internship_Experience</th>\n",
       "      <th>Extra_Curricular_Score</th>\n",
       "      <th>Communication_Skills</th>\n",
       "      <th>Projects_Completed</th>\n",
       "      <th>Placement</th>\n",
       "    </tr>\n",
       "  </thead>\n",
       "  <tbody>\n",
       "    <tr>\n",
       "      <th>College_ID</th>\n",
       "      <td>1.000000</td>\n",
       "      <td>-0.006660</td>\n",
       "      <td>0.008184</td>\n",
       "      <td>0.008412</td>\n",
       "      <td>-0.012464</td>\n",
       "      <td>0.018362</td>\n",
       "      <td>-0.007169</td>\n",
       "      <td>-0.001709</td>\n",
       "      <td>0.022639</td>\n",
       "      <td>0.000854</td>\n",
       "    </tr>\n",
       "    <tr>\n",
       "      <th>IQ</th>\n",
       "      <td>-0.006660</td>\n",
       "      <td>1.000000</td>\n",
       "      <td>-0.003299</td>\n",
       "      <td>-0.003320</td>\n",
       "      <td>-0.009726</td>\n",
       "      <td>0.001985</td>\n",
       "      <td>-0.009101</td>\n",
       "      <td>-0.013168</td>\n",
       "      <td>0.016550</td>\n",
       "      <td>0.286462</td>\n",
       "    </tr>\n",
       "    <tr>\n",
       "      <th>Prev_Sem_Result</th>\n",
       "      <td>0.008184</td>\n",
       "      <td>-0.003299</td>\n",
       "      <td>1.000000</td>\n",
       "      <td>0.980751</td>\n",
       "      <td>-0.005173</td>\n",
       "      <td>-0.013189</td>\n",
       "      <td>0.008712</td>\n",
       "      <td>-0.017338</td>\n",
       "      <td>0.018109</td>\n",
       "      <td>0.316862</td>\n",
       "    </tr>\n",
       "    <tr>\n",
       "      <th>CGPA</th>\n",
       "      <td>0.008412</td>\n",
       "      <td>-0.003320</td>\n",
       "      <td>0.980751</td>\n",
       "      <td>1.000000</td>\n",
       "      <td>-0.002350</td>\n",
       "      <td>-0.012291</td>\n",
       "      <td>0.010709</td>\n",
       "      <td>-0.018294</td>\n",
       "      <td>0.020364</td>\n",
       "      <td>0.320609</td>\n",
       "    </tr>\n",
       "    <tr>\n",
       "      <th>Academic_Performance</th>\n",
       "      <td>-0.012464</td>\n",
       "      <td>-0.009726</td>\n",
       "      <td>-0.005173</td>\n",
       "      <td>-0.002350</td>\n",
       "      <td>1.000000</td>\n",
       "      <td>0.025129</td>\n",
       "      <td>0.011118</td>\n",
       "      <td>-0.019508</td>\n",
       "      <td>-0.014174</td>\n",
       "      <td>-0.014945</td>\n",
       "    </tr>\n",
       "    <tr>\n",
       "      <th>Internship_Experience</th>\n",
       "      <td>0.018362</td>\n",
       "      <td>0.001985</td>\n",
       "      <td>-0.013189</td>\n",
       "      <td>-0.012291</td>\n",
       "      <td>0.025129</td>\n",
       "      <td>1.000000</td>\n",
       "      <td>0.001842</td>\n",
       "      <td>-0.019948</td>\n",
       "      <td>-0.011271</td>\n",
       "      <td>-0.005067</td>\n",
       "    </tr>\n",
       "    <tr>\n",
       "      <th>Extra_Curricular_Score</th>\n",
       "      <td>-0.007169</td>\n",
       "      <td>-0.009101</td>\n",
       "      <td>0.008712</td>\n",
       "      <td>0.010709</td>\n",
       "      <td>0.011118</td>\n",
       "      <td>0.001842</td>\n",
       "      <td>1.000000</td>\n",
       "      <td>0.003483</td>\n",
       "      <td>0.007736</td>\n",
       "      <td>-0.006365</td>\n",
       "    </tr>\n",
       "    <tr>\n",
       "      <th>Communication_Skills</th>\n",
       "      <td>-0.001709</td>\n",
       "      <td>-0.013168</td>\n",
       "      <td>-0.017338</td>\n",
       "      <td>-0.018294</td>\n",
       "      <td>-0.019508</td>\n",
       "      <td>-0.019948</td>\n",
       "      <td>0.003483</td>\n",
       "      <td>1.000000</td>\n",
       "      <td>-0.003374</td>\n",
       "      <td>0.322762</td>\n",
       "    </tr>\n",
       "    <tr>\n",
       "      <th>Projects_Completed</th>\n",
       "      <td>0.022639</td>\n",
       "      <td>0.016550</td>\n",
       "      <td>0.018109</td>\n",
       "      <td>0.020364</td>\n",
       "      <td>-0.014174</td>\n",
       "      <td>-0.011271</td>\n",
       "      <td>0.007736</td>\n",
       "      <td>-0.003374</td>\n",
       "      <td>1.000000</td>\n",
       "      <td>0.218503</td>\n",
       "    </tr>\n",
       "    <tr>\n",
       "      <th>Placement</th>\n",
       "      <td>0.000854</td>\n",
       "      <td>0.286462</td>\n",
       "      <td>0.316862</td>\n",
       "      <td>0.320609</td>\n",
       "      <td>-0.014945</td>\n",
       "      <td>-0.005067</td>\n",
       "      <td>-0.006365</td>\n",
       "      <td>0.322762</td>\n",
       "      <td>0.218503</td>\n",
       "      <td>1.000000</td>\n",
       "    </tr>\n",
       "  </tbody>\n",
       "</table>\n",
       "</div>"
      ],
      "text/plain": [
       "                        College_ID        IQ  Prev_Sem_Result      CGPA  \\\n",
       "College_ID                1.000000 -0.006660         0.008184  0.008412   \n",
       "IQ                       -0.006660  1.000000        -0.003299 -0.003320   \n",
       "Prev_Sem_Result           0.008184 -0.003299         1.000000  0.980751   \n",
       "CGPA                      0.008412 -0.003320         0.980751  1.000000   \n",
       "Academic_Performance     -0.012464 -0.009726        -0.005173 -0.002350   \n",
       "Internship_Experience     0.018362  0.001985        -0.013189 -0.012291   \n",
       "Extra_Curricular_Score   -0.007169 -0.009101         0.008712  0.010709   \n",
       "Communication_Skills     -0.001709 -0.013168        -0.017338 -0.018294   \n",
       "Projects_Completed        0.022639  0.016550         0.018109  0.020364   \n",
       "Placement                 0.000854  0.286462         0.316862  0.320609   \n",
       "\n",
       "                        Academic_Performance  Internship_Experience  \\\n",
       "College_ID                         -0.012464               0.018362   \n",
       "IQ                                 -0.009726               0.001985   \n",
       "Prev_Sem_Result                    -0.005173              -0.013189   \n",
       "CGPA                               -0.002350              -0.012291   \n",
       "Academic_Performance                1.000000               0.025129   \n",
       "Internship_Experience               0.025129               1.000000   \n",
       "Extra_Curricular_Score              0.011118               0.001842   \n",
       "Communication_Skills               -0.019508              -0.019948   \n",
       "Projects_Completed                 -0.014174              -0.011271   \n",
       "Placement                          -0.014945              -0.005067   \n",
       "\n",
       "                        Extra_Curricular_Score  Communication_Skills  \\\n",
       "College_ID                           -0.007169             -0.001709   \n",
       "IQ                                   -0.009101             -0.013168   \n",
       "Prev_Sem_Result                       0.008712             -0.017338   \n",
       "CGPA                                  0.010709             -0.018294   \n",
       "Academic_Performance                  0.011118             -0.019508   \n",
       "Internship_Experience                 0.001842             -0.019948   \n",
       "Extra_Curricular_Score                1.000000              0.003483   \n",
       "Communication_Skills                  0.003483              1.000000   \n",
       "Projects_Completed                    0.007736             -0.003374   \n",
       "Placement                            -0.006365              0.322762   \n",
       "\n",
       "                        Projects_Completed  Placement  \n",
       "College_ID                        0.022639   0.000854  \n",
       "IQ                                0.016550   0.286462  \n",
       "Prev_Sem_Result                   0.018109   0.316862  \n",
       "CGPA                              0.020364   0.320609  \n",
       "Academic_Performance             -0.014174  -0.014945  \n",
       "Internship_Experience            -0.011271  -0.005067  \n",
       "Extra_Curricular_Score            0.007736  -0.006365  \n",
       "Communication_Skills             -0.003374   0.322762  \n",
       "Projects_Completed                1.000000   0.218503  \n",
       "Placement                         0.218503   1.000000  "
      ]
     },
     "execution_count": 20,
     "metadata": {},
     "output_type": "execute_result"
    }
   ],
   "source": [
    "correlation = cleaned_data.corr()\n",
    "correlation"
   ]
  },
  {
   "cell_type": "code",
   "execution_count": 21,
   "id": "9a6192a5-90e0-49ab-9a13-2af4ae0ff1d5",
   "metadata": {},
   "outputs": [
    {
     "data": {
      "text/plain": [
       "<Axes: >"
      ]
     },
     "execution_count": 21,
     "metadata": {},
     "output_type": "execute_result"
    },
    {
     "data": {
      "image/png": "[encoded data removed]",
      "text/plain": [
       "<Figure size 640x480 with 2 Axes>"
      ]
     },
     "metadata": {},
     "output_type": "display_data"
    }
   ],
   "source": [
    "sns.heatmap(correlation, cbar=True, square=True, fmt='.2f', annot=True, annot_kws={'size':8}, cmap='Accent')"
   ]
  },
  {
   "cell_type": "code",
   "execution_count": 22,
   "id": "54d304a2-d72e-41df-8818-6b46ec23bc4a",
   "metadata": {},
   "outputs": [
    {
     "data": {
      "text/plain": [
       "Placement\n",
       "0    8296\n",
       "1    1643\n",
       "Name: count, dtype: int64"
      ]
     },
     "execution_count": 22,
     "metadata": {},
     "output_type": "execute_result"
    }
   ],
   "source": [
    "cleaned_data['Placement'].value_counts()"
   ]
  },
  {
   "cell_type": "code",
   "execution_count": null,
   "id": "a6aed9b9-5b23-4a51-aebb-b219dd34d5ea",
   "metadata": {},
   "outputs": [],
   "source": [
    "x = cleaned_data.drop('Placement', axis=1)\n",
    "x"
   ]
  },
  {
   "cell_type": "code",
   "execution_count": null,
   "id": "eba0f0e2-beb3-4680-a8a9-b20803435d5e",
   "metadata": {},
   "outputs": [],
   "source": [
    "y = cleaned_data['Placement']\n",
    "y "
   ]
  },
  {
   "cell_type": "code",
   "execution_count": null,
   "id": "d05878bb-3350-4f2f-b5dd-b085da5c6f44",
   "metadata": {},
   "outputs": [],
   "source": [
    "x_train, x_test, y_train, y_test = train_test_split(x,y,test_size = 0.2, random_state=2)"
   ]
  },
  {
   "cell_type": "code",
   "execution_count": null,
   "id": "7185d137-be83-4c44-9a26-2d5922f0a9ce",
   "metadata": {},
   "outputs": [],
   "source": [
    "x.shape, x_train.shape, x_test.shape, y.shape, y_train.shape, y_test.shape"
   ]
  },
  {
   "cell_type": "code",
   "execution_count": null,
   "id": "5e5e3e6a-824d-4b49-8654-ce18a0ccddcc",
   "metadata": {},
   "outputs": [],
   "source": [
    "from sklearn.tree import DecisionTreeClassifier\n",
    "from sklearn.ensemble import RandomForestClassifier"
   ]
  },
  {
   "cell_type": "code",
   "execution_count": null,
   "id": "299d93f5-6d9b-4f9a-a2ab-22a6a7c12627",
   "metadata": {},
   "outputs": [],
   "source": [
    "model = RandomForestClassifier()"
   ]
  },
  {
   "cell_type": "code",
   "execution_count": null,
   "id": "29774226-da9d-46ae-89b7-47ddf614ca92",
   "metadata": {},
   "outputs": [],
   "source": [
    "# Model fitting\n",
    "model.fit(x_train,y_train)"
   ]
  },
  {
   "cell_type": "code",
   "execution_count": null,
   "id": "719bee07-001b-400c-adee-479624688aa1",
   "metadata": {},
   "outputs": [],
   "source": [
    "train_data_predict = model.predict(x_train)\n",
    "train_data_accuracy = accuracy_score(train_data_predict,y_train)\n",
    "print('Accuracy of training data',train_data_accuracy)"
   ]
  },
  {
   "cell_type": "code",
   "execution_count": null,
   "id": "7fb49f20-9aac-44eb-a961-7f0fe3bf2025",
   "metadata": {},
   "outputs": [],
   "source": [
    "test_data_predict = model.predict(x_test)\n",
    "test_data_accuracy = accuracy_score(test_data_predict,y_test)\n",
    "print('Accuracy of testing data',test_data_accuracy)"
   ]
  },
  {
   "cell_type": "code",
   "execution_count": null,
   "id": "3550136e-6bbb-4e94-b5b7-1c35d905df5e",
   "metadata": {},
   "outputs": [],
   "source": [
    "cm = confusion_matrix(test_data_predict, y_test)\n",
    "cm"
   ]
  },
  {
   "cell_type": "code",
   "execution_count": null,
   "id": "46e09626-7464-4ba3-8c70-c616b284eeee",
   "metadata": {},
   "outputs": [],
   "source": [
    "sns.heatmap(cm, annot = True, annot_kws = {'size':20}, fmt = '.2f', cmap = 'cividis', square = True,\n",
    "           xticklabels = ['predicted_positive','predicted_negative'],\n",
    "           yticklabels = ['actual_positive','actual_negative'])\n",
    "plt.xlabel('Predicted Data')\n",
    "plt.ylabel('Actual Data')\n",
    "plt.title('Confusion Matrix')\n",
    "plt.show()"
   ]
  },
  {
   "cell_type": "code",
   "execution_count": null,
   "id": "22438561-3a03-41ef-9787-ecabbc462c9a",
   "metadata": {},
   "outputs": [],
   "source": [
    "print(classification_report(test_data_predict,y_test))"
   ]
  },
  {
   "cell_type": "code",
   "execution_count": null,
   "id": "04edb87e-2739-46d3-8643-5a405b1f0e69",
   "metadata": {},
   "outputs": [],
   "source": [
    "# To convert dataset into CSV format inorder to take the input dataset\n",
    "cleaned_data.to_csv('cleaned_dataset.csv', index=False)"
   ]
  },
  {
   "cell_type": "code",
   "execution_count": null,
   "id": "5d8b8b16-9d72-4c54-a654-be64891455f4",
   "metadata": {},
   "outputs": [],
   "source": [
    "# Prediction using a sample data\n",
    "input_data = (41, 123, 6.68,6.58,5,\t0,7,8,2)    # Actual = Bad Quality(5)\n",
    "input_data_as_np = np.asarray(input_data)\n",
    "input_data_reshaped = input_data_as_np.reshape(1,-1)\n",
    "prediction = model.predict(input_data_reshaped)\n",
    "if prediction[0]==1:\n",
    "    print('The student has got placement')\n",
    "else:\n",
    "    print('The student is not placed')"
   ]
  },
  {
   "cell_type": "code",
   "execution_count": null,
   "id": "00027923-6aa2-4588-b834-7295ee30dc29",
   "metadata": {},
   "outputs": [],
   "source": []
  }
 ],
 "metadata": {
  "kernelspec": {
   "display_name": "Python 3 (ipykernel)",
   "language": "python",
   "name": "python3"
  },
  "language_info": {
   "codemirror_mode": {
    "name": "ipython",
    "version": 3
   },
   "file_extension": ".py",
   "mimetype": "text/x-python",
   "name": "python",
   "nbconvert_exporter": "python",
   "pygments_lexer": "ipython3",
   "version": "3.12.7"
  }
 },
 "nbformat": 4,
 "nbformat_minor": 5
}
